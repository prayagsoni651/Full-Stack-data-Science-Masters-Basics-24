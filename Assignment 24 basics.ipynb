{
 "cells": [
  {
   "cell_type": "code",
   "execution_count": 2,
   "id": "a7b72fac",
   "metadata": {},
   "outputs": [
    {
     "data": {
      "text/plain": [
       "<function __main__.<lambda>(parameters)>"
      ]
     },
     "execution_count": 2,
     "metadata": {},
     "output_type": "execute_result"
    }
   ],
   "source": [
    "'''\n",
    "1. What is the relationship between def statements and lambda expressions ?\n",
    "\n",
    "'''\n",
    "\n",
    "def function_name(parameters):\n",
    "    # Function body\n",
    "    return expression\n",
    "\n",
    "\n",
    "lambda parameters: expression\n"
   ]
  },
  {
   "cell_type": "code",
   "execution_count": 3,
   "id": "08c32931",
   "metadata": {},
   "outputs": [
    {
     "data": {
      "text/plain": [
       "\"\\nConciseness: Lambda expressions allow you to define functions in a single line of code. This can lead to more compact and readable code, especially when defining simple functions or when using functional programming constructs like map(), filter(), or sorted().\\n\\nAnonymous Functions: Lambda functions are anonymous, meaning they do not require a name to be defined. This is useful when you need to create a function for a specific purpose and do not intend to reuse it elsewhere in your code.\\n\\nFunctional Programming: Lambda expressions are commonly used in functional programming paradigms where functions are treated as first-class citizens. They can be passed as arguments to other functions, returned from other functions, or stored in data structures like lists or dictionaries.\\n\\nReadability: In some cases, using a lambda expression can make the code more readable by eliminating the need for defining a separate named function. This is especially true for short, simple functions where the function's purpose is clear from the context.\\n\\nReducing Code Bloat: Lambda expressions can help reduce code bloat by eliminating the need for defining a separate function for simple operations that are only used in a single context.\\n\\nEase of Use: Lambda expressions provide a quick and convenient way to define small, one-off functions without the overhead of writing a full function definition.\\n\\n\\n\""
      ]
     },
     "execution_count": 3,
     "metadata": {},
     "output_type": "execute_result"
    }
   ],
   "source": [
    "'''\n",
    "2. What is the benefit of lambda?\n",
    "\n",
    "'''\n",
    "\n",
    "'''\n",
    "Conciseness: Lambda expressions allow you to define functions in a single line of code. This can lead to more compact and readable code, especially when defining simple functions or when using functional programming constructs like map(), filter(), or sorted().\n",
    "\n",
    "Anonymous Functions: Lambda functions are anonymous, meaning they do not require a name to be defined. This is useful when you need to create a function for a specific purpose and do not intend to reuse it elsewhere in your code.\n",
    "\n",
    "Functional Programming: Lambda expressions are commonly used in functional programming paradigms where functions are treated as first-class citizens. They can be passed as arguments to other functions, returned from other functions, or stored in data structures like lists or dictionaries.\n",
    "\n",
    "Readability: In some cases, using a lambda expression can make the code more readable by eliminating the need for defining a separate named function. This is especially true for short, simple functions where the function's purpose is clear from the context.\n",
    "\n",
    "Reducing Code Bloat: Lambda expressions can help reduce code bloat by eliminating the need for defining a separate function for simple operations that are only used in a single context.\n",
    "\n",
    "Ease of Use: Lambda expressions provide a quick and convenient way to define small, one-off functions without the overhead of writing a full function definition.\n",
    "\n",
    "\n",
    "'''\n"
   ]
  },
  {
   "cell_type": "code",
   "execution_count": 5,
   "id": "7e93668c",
   "metadata": {},
   "outputs": [],
   "source": [
    "'''\n",
    "3. Compare and contrast map, filter, and reduce.\n",
    "\n",
    "'''\n",
    "\n",
    "numbers = [1, 2, 3, 4, 5]\n",
    "squared_numbers = map(lambda x: x ** 2, numbers)\n",
    "# Output: [1, 4, 9, 16, 25]\n",
    "\n",
    "\n",
    "\n",
    "\n",
    "numbers = [1, 2, 3, 4, 5]\n",
    "even_numbers = filter(lambda x: x % 2 == 0, numbers)\n",
    "# Output: [2, 4]\n",
    "\n",
    "\n",
    "\n",
    "from functools import reduce\n",
    "numbers = [1, 2, 3, 4, 5]\n",
    "sum_of_numbers = reduce(lambda x, y: x + y, numbers)\n",
    "# Output: 15\n"
   ]
  },
  {
   "cell_type": "code",
   "execution_count": 6,
   "id": "3f81d44e",
   "metadata": {},
   "outputs": [
    {
     "name": "stdout",
     "output_type": "stream",
     "text": [
      "Hello, Alice!\n"
     ]
    }
   ],
   "source": [
    "'''\n",
    "4. What are function annotations, and how are they used?\n",
    "\n",
    "'''\n",
    "\n",
    "def greet(name: str) -> str:\n",
    "    return f\"Hello, {name}!\"\n",
    "\n",
    "print(greet(\"Alice\"))  # Output: Hello, Alice!\n"
   ]
  },
  {
   "cell_type": "code",
   "execution_count": 7,
   "id": "3671185a",
   "metadata": {},
   "outputs": [
    {
     "name": "stdout",
     "output_type": "stream",
     "text": [
      "120\n"
     ]
    }
   ],
   "source": [
    "'''5. What are recursive functions, and how are they used?'''\n",
    "\n",
    "def factorial(n):\n",
    "    # Base case: if n is 0 or 1, return 1\n",
    "    if n == 0 or n == 1:\n",
    "        return 1\n",
    "    # Recursive case: calculate factorial(n-1) and multiply by n\n",
    "    else:\n",
    "        return n * factorial(n - 1)\n",
    "\n",
    "# Example usage:\n",
    "print(factorial(5))  # Output: 120\n"
   ]
  },
  {
   "cell_type": "code",
   "execution_count": 8,
   "id": "662aaf7e",
   "metadata": {},
   "outputs": [
    {
     "data": {
      "text/plain": [
       "'\\nSingle Responsibility Principle (SRP): Each function should have a single responsibility or do one thing well. This makes functions easier to understand, test, and maintain.\\n\\nDescriptive Names: Use descriptive and meaningful names for functions to convey their purpose and behavior. The name should indicate what the function does without the need for additional comments.\\n\\nFunction Length: Keep functions short and focused. Long functions can be difficult to understand and maintain. Aim for functions that fit within a single screen or less, although this can vary depending on the complexity of the task.\\n\\nUse Parameters: Pass necessary data to functions as parameters rather than relying on global variables. This makes functions more reusable and reduces coupling between different parts of the code.\\n\\nAvoid Side Effects: Minimize or avoid side effects within functions. Side effects occur when a function modifies state outside of its scope, such as modifying global variables or mutable objects passed by reference. Functions with side effects are harder to reason about and can lead to unexpected behavior.\\n\\nConsistent Style: Follow a consistent coding style and naming convention for functions. This improves readability and makes the codebase easier to maintain, especially when working in a team.\\n\\nError Handling: Include appropriate error handling within functions to handle exceptional cases and unexpected inputs gracefully. Use exceptions to report errors rather than returning special values or using global variables.\\n\\nDocumentation: Write clear and concise documentation for functions, including a description of what the function does, its parameters, return values, and any exceptions it may raise. Use docstrings to document functions in Python.\\n\\nUnit Testing: Write unit tests for functions to ensure they behave as expected under different conditions. Test both the normal behavior and edge cases to verify correctness and robustness.\\n\\nAvoid Repetition: Refactor repeated code into reusable functions to avoid duplication. This improves readability, reduces errors, and makes the codebase easier to maintain.\\n\\n'"
      ]
     },
     "execution_count": 8,
     "metadata": {},
     "output_type": "execute_result"
    }
   ],
   "source": [
    "'''\n",
    "6. What are some general design guidelines for coding functions?\n",
    "\n",
    "'''\n",
    "\n",
    "'''\n",
    "Single Responsibility Principle (SRP): Each function should have a single responsibility or do one thing well. This makes functions easier to understand, test, and maintain.\n",
    "\n",
    "Descriptive Names: Use descriptive and meaningful names for functions to convey their purpose and behavior. The name should indicate what the function does without the need for additional comments.\n",
    "\n",
    "Function Length: Keep functions short and focused. Long functions can be difficult to understand and maintain. Aim for functions that fit within a single screen or less, although this can vary depending on the complexity of the task.\n",
    "\n",
    "Use Parameters: Pass necessary data to functions as parameters rather than relying on global variables. This makes functions more reusable and reduces coupling between different parts of the code.\n",
    "\n",
    "Avoid Side Effects: Minimize or avoid side effects within functions. Side effects occur when a function modifies state outside of its scope, such as modifying global variables or mutable objects passed by reference. Functions with side effects are harder to reason about and can lead to unexpected behavior.\n",
    "\n",
    "Consistent Style: Follow a consistent coding style and naming convention for functions. This improves readability and makes the codebase easier to maintain, especially when working in a team.\n",
    "\n",
    "Error Handling: Include appropriate error handling within functions to handle exceptional cases and unexpected inputs gracefully. Use exceptions to report errors rather than returning special values or using global variables.\n",
    "\n",
    "Documentation: Write clear and concise documentation for functions, including a description of what the function does, its parameters, return values, and any exceptions it may raise. Use docstrings to document functions in Python.\n",
    "\n",
    "Unit Testing: Write unit tests for functions to ensure they behave as expected under different conditions. Test both the normal behavior and edge cases to verify correctness and robustness.\n",
    "\n",
    "Avoid Repetition: Refactor repeated code into reusable functions to avoid duplication. This improves readability, reduces errors, and makes the codebase easier to maintain.\n",
    "\n",
    "'''"
   ]
  },
  {
   "cell_type": "code",
   "execution_count": 12,
   "id": "a1e51425",
   "metadata": {},
   "outputs": [
    {
     "name": "stdout",
     "output_type": "stream",
     "text": [
      "8\n",
      "1\n",
      "5\n",
      "6\n"
     ]
    }
   ],
   "source": [
    "'''\n",
    "\n",
    "7. Name three or more ways that functions can communicate results to a caller.\n",
    "\n",
    "'''\n",
    "\n",
    "def add(a, b):\n",
    "    return a + b\n",
    "\n",
    "result = add(3, 5)\n",
    "print(result)  # Output: 8\n",
    "\n",
    "\n",
    "counter = 0\n",
    "\n",
    "def increment_counter():\n",
    "    global counter\n",
    "    counter += 1\n",
    "\n",
    "increment_counter()\n",
    "print(counter)  # Output: 1\n",
    "\n",
    "\n",
    "\n",
    "\n",
    "def increment(number):\n",
    "    number += 1\n",
    "\n",
    "value = 5\n",
    "increment(value)\n",
    "print(value)  # Output: 5 (value remains unchanged)\n",
    "\n",
    "\n",
    "\n",
    "def increment(number_list):\n",
    "    number_list[0] += 1\n",
    "\n",
    "numbers = [5]\n",
    "increment(numbers)\n",
    "print(numbers[0])  # Output: 6\n",
    "\n",
    "\n",
    "\n"
   ]
  },
  {
   "cell_type": "code",
   "execution_count": null,
   "id": "7e2d758a",
   "metadata": {},
   "outputs": [],
   "source": []
  }
 ],
 "metadata": {
  "kernelspec": {
   "display_name": "Python 3 (ipykernel)",
   "language": "python",
   "name": "python3"
  },
  "language_info": {
   "codemirror_mode": {
    "name": "ipython",
    "version": 3
   },
   "file_extension": ".py",
   "mimetype": "text/x-python",
   "name": "python",
   "nbconvert_exporter": "python",
   "pygments_lexer": "ipython3",
   "version": "3.11.5"
  }
 },
 "nbformat": 4,
 "nbformat_minor": 5
}
